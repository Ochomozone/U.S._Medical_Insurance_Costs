{
 "cells": [
  {
   "cell_type": "markdown",
   "metadata": {},
   "source": [
    "# U.S. Medical Insurance Costs"
   ]
  },
  {
   "cell_type": "markdown",
   "metadata": {},
   "source": [
    "\n",
    "Download a zip file here with the necessary datasets and an empty Jupyter Notebook where you can write your code.\n",
    "\n",
    "Open insurance.csv and take a look at the file. Take note of how information is organized. How will this affect how you analyze the data in Python? Is there anything of particular interest to you in the dataset that you want to investigate? Think about these things before you jump into analyzing it."
   ]
  },
  {
   "cell_type": "code",
   "execution_count": 1,
   "metadata": {},
   "outputs": [],
   "source": [
    "import pandas as pd\n",
    "import csv\n",
    "import numpy as np\n"
   ]
  },
  {
   "cell_type": "markdown",
   "metadata": {},
   "source": [
    "Import your dataset\n",
    "Import insurance.csv into your Python file and inspect the contents."
   ]
  },
  {
   "cell_type": "code",
   "execution_count": 2,
   "metadata": {
    "scrolled": true
   },
   "outputs": [
    {
     "name": "stdout",
     "output_type": "stream",
     "text": [
      "   age     sex     bmi  children smoker     region      charges\n",
      "0   19  female  27.900         0    yes  southwest  16884.92400\n",
      "1   18    male  33.770         1     no  southeast   1725.55230\n",
      "2   28    male  33.000         3     no  southeast   4449.46200\n",
      "3   33    male  22.705         0     no  northwest  21984.47061\n",
      "4   32    male  28.880         0     no  northwest   3866.85520\n",
      "\n",
      "Total number of records is 1338\n",
      "\n",
      "The data was collected from the following regions: ['southwest' 'southeast' 'northwest' 'northeast']\n"
     ]
    }
   ],
   "source": [
    "insurance = pd.read_csv('/Users/nochomo/Documents/GitHub/insurance.csv')\n",
    "print(insurance.head())\n",
    "print('\\nTotal number of records is {}\\n'.format(len(insurance)))\n",
    "print('The data was collected from the following regions: {}'.format(insurance.region.unique()))"
   ]
  },
  {
   "cell_type": "code",
   "execution_count": null,
   "metadata": {},
   "outputs": [],
   "source": []
  },
  {
   "cell_type": "markdown",
   "metadata": {},
   "source": [
    "## The Goals of this analysis will include:\n",
    "1. Find out the average cost of insurance across the country and within each region.\n",
    "2. Analyze where a majority of the individuals are from.\n",
    "3. Investigating the impact of smoking on insurance costs.\n",
    "4. The differences in insurance costs between males and females keeping other factors constant"
   ]
  },
  {
   "cell_type": "markdown",
   "metadata": {},
   "source": [
    "## Average cost of insurance.\n",
    "Calculating average insurance cost, Median, Percentiles and deviation"
   ]
  },
  {
   "cell_type": "code",
   "execution_count": 24,
   "metadata": {},
   "outputs": [
    {
     "name": "stdout",
     "output_type": "stream",
     "text": [
      "The average cost os insurance is 13270$, with a standard deviation of 12110$.\n",
      "The median insurance cost is 9382$.\n",
      "The Interquartile range is 11900$\n"
     ]
    }
   ],
   "source": [
    "insurance_cost_mean = insurance.charges.mean()\n",
    "insurance_cost_q1 = np.percentile(insurance.charges, 25)\n",
    "insurance_cost_q3 = np.percentile(insurance.charges, 75)\n",
    "insurance_cost_median = insurance.charges.median()\n",
    "insurance_cost_std = insurance.charges.std()\n",
    "print('The average cost os insurance is {a}$, with a standard deviation of {b}$.\\n\\\n",
    "The median insurance cost is {c}$.\\n\\\n",
    "The Interquartile range is {d}$'.format(\n",
    "                                    a = round(insurance_cost_mean),\n",
    "                                    b = round(insurance_cost_std),\n",
    "                                    c = round(insurance_cost_median),\n",
    "                                    d = round(insurance_cost_q3 - insurance_cost_q1)))\n"
   ]
  },
  {
   "cell_type": "markdown",
   "metadata": {},
   "source": [
    "## Regional distribution of the insurance data"
   ]
  },
  {
   "cell_type": "code",
   "execution_count": 44,
   "metadata": {},
   "outputs": [
    {
     "name": "stdout",
     "output_type": "stream",
     "text": [
      "region\n",
      "northeast    324\n",
      "northwest    325\n",
      "southeast    364\n",
      "southwest    325\n",
      "Name: children, dtype: int64\n"
     ]
    }
   ],
   "source": [
    "insurance_by_region = insurance.groupby(['region'])['children'].count()\n",
    "print(insurance_by_region)"
   ]
  },
  {
   "cell_type": "markdown",
   "metadata": {},
   "source": [
    "##  The impact of smoking on insurance costs."
   ]
  },
  {
   "cell_type": "code",
   "execution_count": 57,
   "metadata": {},
   "outputs": [
    {
     "name": "stdout",
     "output_type": "stream",
     "text": [
      "The average insurance cost for smokers was 32050.23$, while the average insurance costs for non smokers was 8434.27$.\n"
     ]
    }
   ],
   "source": [
    "smokers_insurance_costs = insurance[insurance.smoker == 'yes']\n",
    "smokers_insurance_mean = round(smokers_insurance_costs.charges.mean(), 2)\n",
    "\n",
    "non_smokers_insurance_costs = insurance[insurance.smoker == 'no']\n",
    "non_smokers_insurance_mean =round(non_smokers_insurance_costs.charges.mean(), 2)\n",
    "\n",
    "print('The average insurance cost for smokers was {a}$, while the average insurance\\\n",
    "costs for non smokers was {b}$.'.format(a = smokers_insurance_mean, b = non_smokers_insurance_mean))"
   ]
  },
  {
   "cell_type": "markdown",
   "metadata": {},
   "source": [
    "## Insurance costs for non smoking females aged between 18-50 with no children"
   ]
  },
  {
   "cell_type": "code",
   "execution_count": 79,
   "metadata": {},
   "outputs": [
    {
     "name": "stdout",
     "output_type": "stream",
     "text": [
      "The average insurance cost for a non smoking female aged 18 -50 with no children is 4884.54$\n"
     ]
    }
   ],
   "source": [
    "females_insurance = insurance[(insurance.smoker == 'no') \n",
    "                              & (insurance.children == 0)\n",
    "                              &(insurance.age >= 18)\n",
    "                              & (insurance.age <= 50) \n",
    "                              & (insurance.sex == 'female')]\n",
    "females_insurance_mean = round(females_insurance.charges.mean(), 2)\n",
    "\n",
    "\n",
    "print('The average insurance cost for a non smoking female\\\n",
    " aged 18 -50 with no children is {}$'.format(females_insurance_mean))"
   ]
  },
  {
   "cell_type": "markdown",
   "metadata": {},
   "source": [
    "## Insurance costs for non smoking males aged between 18-50 with no children"
   ]
  },
  {
   "cell_type": "code",
   "execution_count": 80,
   "metadata": {},
   "outputs": [
    {
     "name": "stdout",
     "output_type": "stream",
     "text": [
      "The average insurance cost for a non smoking female aged 18 -50 with no children is 4487.33$\n"
     ]
    }
   ],
   "source": [
    "males_insurance = insurance[(insurance.smoker == 'no') \n",
    "                              & (insurance.children == 0)\n",
    "                              &(insurance.age >= 18)\n",
    "                              & (insurance.age <= 50) \n",
    "                              & (insurance.sex == 'male')]\n",
    "males_insurance_mean = round(males_insurance.charges.mean(), 2)\n",
    "\n",
    "\n",
    "print('The average insurance cost for a non smoking female\\\n",
    " aged 18 -50 with no children is {}$'.format(males_insurance_mean))"
   ]
  },
  {
   "cell_type": "code",
   "execution_count": null,
   "metadata": {},
   "outputs": [],
   "source": []
  }
 ],
 "metadata": {
  "kernelspec": {
   "display_name": "Python 3 (ipykernel)",
   "language": "python",
   "name": "python3"
  },
  "language_info": {
   "codemirror_mode": {
    "name": "ipython",
    "version": 3
   },
   "file_extension": ".py",
   "mimetype": "text/x-python",
   "name": "python",
   "nbconvert_exporter": "python",
   "pygments_lexer": "ipython3",
   "version": "3.9.12"
  }
 },
 "nbformat": 4,
 "nbformat_minor": 4
}
